{
 "cells": [
  {
   "cell_type": "code",
   "execution_count": 1,
   "metadata": {},
   "outputs": [],
   "source": [
    "from tensorflow.keras.utils import load_img,img_to_array\n",
    "import tensorflow as tf\n",
    "import random, os\n",
    "import numpy as np\n",
    "from matplotlib import pyplot as plt\n",
    "\n"
   ]
  },
  {
   "cell_type": "code",
   "execution_count": 2,
   "metadata": {},
   "outputs": [],
   "source": [
    "test_dir = 'flower-data/test/'\n",
    "img_sz = 224\n",
    "\n",
    "class_name = list(os.listdir('flower-data/train/'))\n",
    "\n",
    "img_name = random.choice(os.listdir(test_dir))\n",
    "img_path = test_dir + img_name\n"
   ]
  },
  {
   "cell_type": "code",
   "execution_count": 3,
   "metadata": {},
   "outputs": [],
   "source": []
  },
  {
   "cell_type": "code",
   "execution_count": 5,
   "metadata": {},
   "outputs": [
    {
     "data": {
      "text/plain": [
       "<tf.Tensor: shape=(1, 224, 224, 3), dtype=float32, numpy=\n",
       "array([[[[ 73.,  98.,  14.],\n",
       "         [ 71.,  96.,  12.],\n",
       "         [ 68.,  93.,  10.],\n",
       "         ...,\n",
       "         [120., 135.,  52.],\n",
       "         [125., 140.,  55.],\n",
       "         [130., 146.,  58.]],\n",
       "\n",
       "        [[ 78., 104.,  17.],\n",
       "         [ 75., 100.,  16.],\n",
       "         [ 72.,  97.,  14.],\n",
       "         ...,\n",
       "         [117., 132.,  49.],\n",
       "         [121., 136.,  51.],\n",
       "         [126., 141.,  56.]],\n",
       "\n",
       "        [[ 81., 107.,  18.],\n",
       "         [ 78., 104.,  17.],\n",
       "         [ 75., 100.,  16.],\n",
       "         ...,\n",
       "         [115., 130.,  49.],\n",
       "         [119., 134.,  51.],\n",
       "         [124., 139.,  54.]],\n",
       "\n",
       "        ...,\n",
       "\n",
       "        [[ 42.,  61.,  15.],\n",
       "         [ 43.,  62.,  16.],\n",
       "         [ 44.,  63.,  17.],\n",
       "         ...,\n",
       "         [105., 133.,  74.],\n",
       "         [106., 134.,  76.],\n",
       "         [107., 135.,  77.]],\n",
       "\n",
       "        [[ 41.,  60.,  14.],\n",
       "         [ 41.,  60.,  14.],\n",
       "         [ 42.,  61.,  15.],\n",
       "         ...,\n",
       "         [108., 135.,  80.],\n",
       "         [109., 136.,  83.],\n",
       "         [109., 136.,  85.]],\n",
       "\n",
       "        [[ 39.,  58.,  12.],\n",
       "         [ 40.,  59.,  13.],\n",
       "         [ 41.,  60.,  14.],\n",
       "         ...,\n",
       "         [113., 140.,  89.],\n",
       "         [113., 139.,  91.],\n",
       "         [113., 139.,  92.]]]], dtype=float32)>"
      ]
     },
     "execution_count": 5,
     "metadata": {},
     "output_type": "execute_result"
    }
   ],
   "source": [
    "\n",
    "img = load_img(img_path,target_size=(224,224),keep_aspect_ratio=True)\n",
    "img_array = img_to_array(img)\n",
    "img_array = tf.expand_dims(img_array,0)\n",
    "img_array\n"
   ]
  },
  {
   "cell_type": "code",
   "execution_count": 16,
   "metadata": {},
   "outputs": [
    {
     "data": {
      "text/plain": [
       "array([[[[0.5137255 , 0.29803923, 0.28627452],\n",
       "         [0.49019608, 0.28235295, 0.21176471],\n",
       "         [0.47058824, 0.2627451 , 0.12941177],\n",
       "         ...,\n",
       "         [0.9529412 , 0.8745098 , 0.6431373 ],\n",
       "         [0.9647059 , 0.8862745 , 0.654902  ],\n",
       "         [0.96862745, 0.8901961 , 0.65882355]],\n",
       "\n",
       "        [[0.4862745 , 0.27450982, 0.27450982],\n",
       "         [0.49019608, 0.28627452, 0.23137255],\n",
       "         [0.47058824, 0.27058825, 0.14901961],\n",
       "         ...,\n",
       "         [0.95686275, 0.8784314 , 0.6392157 ],\n",
       "         [0.96862745, 0.8901961 , 0.65882355],\n",
       "         [0.98039216, 0.9019608 , 0.67058825]],\n",
       "\n",
       "        [[0.47058824, 0.26666668, 0.28235295],\n",
       "         [0.4392157 , 0.24313726, 0.20784314],\n",
       "         [0.44313726, 0.24705882, 0.14117648],\n",
       "         ...,\n",
       "         [0.96862745, 0.8901961 , 0.6509804 ],\n",
       "         [0.9764706 , 0.8980392 , 0.65882355],\n",
       "         [0.9843137 , 0.90588236, 0.6745098 ]],\n",
       "\n",
       "        ...,\n",
       "\n",
       "        [[0.34117648, 0.3137255 , 0.27450982],\n",
       "         [0.3137255 , 0.28627452, 0.24705882],\n",
       "         [0.38039216, 0.3529412 , 0.3137255 ],\n",
       "         ...,\n",
       "         [0.3019608 , 0.53333336, 0.17254902],\n",
       "         [0.27058825, 0.4862745 , 0.12941177],\n",
       "         [0.24705882, 0.45490196, 0.09411765]],\n",
       "\n",
       "        [[0.39215687, 0.35686275, 0.32941177],\n",
       "         [0.39215687, 0.35686275, 0.32941177],\n",
       "         [0.41960785, 0.38431373, 0.35686275],\n",
       "         ...,\n",
       "         [0.32941177, 0.54509807, 0.21960784],\n",
       "         [0.3019608 , 0.49411765, 0.1764706 ],\n",
       "         [0.27450982, 0.45882353, 0.14509805]],\n",
       "\n",
       "        [[0.41960785, 0.3764706 , 0.36078432],\n",
       "         [0.42352942, 0.38039216, 0.3647059 ],\n",
       "         [0.42352942, 0.38039216, 0.3647059 ],\n",
       "         ...,\n",
       "         [0.34117648, 0.54901963, 0.24313726],\n",
       "         [0.3137255 , 0.49411765, 0.2       ],\n",
       "         [0.2901961 , 0.45490196, 0.16470589]]]], dtype=float32)"
      ]
     },
     "execution_count": 16,
     "metadata": {},
     "output_type": "execute_result"
    }
   ],
   "source": [
    "normalize_array = img_array.numpy()/255.\n",
    "normalize_array"
   ]
  },
  {
   "cell_type": "code",
   "execution_count": 6,
   "metadata": {},
   "outputs": [
    {
     "name": "stdout",
     "output_type": "stream",
     "text": [
      "1/1 [==============================] - 4s 4s/step\n",
      "75001ddea.jpeg most likely belongs to rose with a 2.57\n"
     ]
    },
    {
     "name": "stderr",
     "output_type": "stream",
     "text": [
      "Clipping input data to the valid range for imshow with RGB data ([0..1] for floats or [0..255] for integers).\n"
     ]
    },
    {
     "data": {
      "text/plain": [
       "(-0.5, 223.5, 223.5, -0.5)"
      ]
     },
     "execution_count": 6,
     "metadata": {},
     "output_type": "execute_result"
    },
    {
     "data": {
      "image/png": "[encoded data removed]",
      "text/plain": [
       "<Figure size 200x200 with 1 Axes>"
      ]
     },
     "metadata": {},
     "output_type": "display_data"
    }
   ],
   "source": [
    "\n",
    "model = tf.keras.models.load_model('model5epochs.h5')\n",
    "\n",
    "predictions = model.predict(img_array)\n",
    "score = tf.nn.softmax(predictions[0])\n",
    "\n",
    "print(f\"{img_name} most likely belongs to {class_name[np.argmax(score)]} with a {100*np.max(score):.2f}\")\n",
    "\n",
    "plt.figure(figsize=(2,2))\n",
    "plt.imshow(img_array[0].numpy(),vmin=0,vmax=255)\n",
    "plt.title(\"{}:{:.2f}\".format(class_name[np.argmax(score)], 100*np.max(score)))\n",
    "plt.axis('off')"
   ]
  },
  {
   "cell_type": "code",
   "execution_count": 29,
   "metadata": {},
   "outputs": [
    {
     "data": {
      "text/plain": [
       "array([[0., 0., 0., 0., 0., 0., 0., 0., 0., 0., 0., 0., 0., 0., 0., 0.,\n",
       "        0., 0., 0., 0., 0., 0., 0., 0., 0., 0., 0., 0., 0., 0., 0., 0.,\n",
       "        1., 0., 0., 0., 0., 0., 0., 0., 0., 0., 0., 0., 0., 0., 0., 0.,\n",
       "        0., 0., 0., 0., 0., 0., 0., 0., 0., 0., 0., 0., 0., 0., 0., 0.,\n",
       "        0., 0., 0., 0., 0., 0., 0., 0., 0., 0., 0., 0., 0., 0., 0., 0.,\n",
       "        0., 0., 0., 0., 0., 0., 0., 0., 0., 0., 0., 0., 0., 0., 0., 0.,\n",
       "        0., 0., 0., 0., 0., 0., 0., 0.]], dtype=float32)"
      ]
     },
     "execution_count": 29,
     "metadata": {},
     "output_type": "execute_result"
    }
   ],
   "source": [
    "predictions"
   ]
  }
 ],
 "metadata": {
  "kernelspec": {
   "display_name": "Python 3",
   "language": "python",
   "name": "python3"
  },
  "language_info": {
   "codemirror_mode": {
    "name": "ipython",
    "version": 3
   },
   "file_extension": ".py",
   "mimetype": "text/x-python",
   "name": "python",
   "nbconvert_exporter": "python",
   "pygments_lexer": "ipython3",
   "version": "3.10.0"
  },
  "orig_nbformat": 4
 },
 "nbformat": 4,
 "nbformat_minor": 2
}
